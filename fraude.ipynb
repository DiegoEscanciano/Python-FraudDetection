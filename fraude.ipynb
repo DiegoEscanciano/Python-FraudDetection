{
 "cells": [
  {
   "cell_type": "code",
   "execution_count": 83,
   "metadata": {},
   "outputs": [
    {
     "name": "stdout",
     "output_type": "stream",
     "text": [
      "Requirement already satisfied: seaborn in c:\\users\\diego\\appdata\\local\\programs\\python\\python312\\lib\\site-packages (0.13.2)\n",
      "Requirement already satisfied: numpy!=1.24.0,>=1.20 in c:\\users\\diego\\appdata\\local\\programs\\python\\python312\\lib\\site-packages (from seaborn) (2.1.1)\n",
      "Requirement already satisfied: pandas>=1.2 in c:\\users\\diego\\appdata\\local\\programs\\python\\python312\\lib\\site-packages (from seaborn) (2.2.3)\n",
      "Requirement already satisfied: matplotlib!=3.6.1,>=3.4 in c:\\users\\diego\\appdata\\local\\programs\\python\\python312\\lib\\site-packages (from seaborn) (3.9.2)\n",
      "Requirement already satisfied: contourpy>=1.0.1 in c:\\users\\diego\\appdata\\local\\programs\\python\\python312\\lib\\site-packages (from matplotlib!=3.6.1,>=3.4->seaborn) (1.3.0)\n",
      "Requirement already satisfied: cycler>=0.10 in c:\\users\\diego\\appdata\\local\\programs\\python\\python312\\lib\\site-packages (from matplotlib!=3.6.1,>=3.4->seaborn) (0.12.1)\n",
      "Requirement already satisfied: fonttools>=4.22.0 in c:\\users\\diego\\appdata\\local\\programs\\python\\python312\\lib\\site-packages (from matplotlib!=3.6.1,>=3.4->seaborn) (4.53.1)\n",
      "Requirement already satisfied: kiwisolver>=1.3.1 in c:\\users\\diego\\appdata\\local\\programs\\python\\python312\\lib\\site-packages (from matplotlib!=3.6.1,>=3.4->seaborn) (1.4.7)\n",
      "Requirement already satisfied: packaging>=20.0 in c:\\users\\diego\\appdata\\roaming\\python\\python312\\site-packages (from matplotlib!=3.6.1,>=3.4->seaborn) (24.1)\n",
      "Requirement already satisfied: pillow>=8 in c:\\users\\diego\\appdata\\local\\programs\\python\\python312\\lib\\site-packages (from matplotlib!=3.6.1,>=3.4->seaborn) (10.4.0)\n",
      "Requirement already satisfied: pyparsing>=2.3.1 in c:\\users\\diego\\appdata\\local\\programs\\python\\python312\\lib\\site-packages (from matplotlib!=3.6.1,>=3.4->seaborn) (3.1.4)\n",
      "Requirement already satisfied: python-dateutil>=2.7 in c:\\users\\diego\\appdata\\roaming\\python\\python312\\site-packages (from matplotlib!=3.6.1,>=3.4->seaborn) (2.9.0.post0)\n",
      "Requirement already satisfied: pytz>=2020.1 in c:\\users\\diego\\appdata\\local\\programs\\python\\python312\\lib\\site-packages (from pandas>=1.2->seaborn) (2024.2)\n",
      "Requirement already satisfied: tzdata>=2022.7 in c:\\users\\diego\\appdata\\local\\programs\\python\\python312\\lib\\site-packages (from pandas>=1.2->seaborn) (2024.1)\n",
      "Requirement already satisfied: six>=1.5 in c:\\users\\diego\\appdata\\roaming\\python\\python312\\site-packages (from python-dateutil>=2.7->matplotlib!=3.6.1,>=3.4->seaborn) (1.16.0)\n",
      "Note: you may need to restart the kernel to use updated packages.\n"
     ]
    }
   ],
   "source": [
    "#pip install seaborn\n"
   ]
  },
  {
   "cell_type": "markdown",
   "metadata": {},
   "source": [
    "## Setup the environment"
   ]
  },
  {
   "cell_type": "code",
   "execution_count": 84,
   "metadata": {},
   "outputs": [],
   "source": [
    "import pandas as pd\n",
    "\n",
    "# Disable scientific notation\n",
    "pd.set_option('display.float_format', lambda x: '%.2f' % x)\n",
    "\n",
    "import matplotlib.pyplot as plt\n",
    "import seaborn as sns\n",
    "import numpy as np\n",
    "\n",
    "# Unsupervised Machine Learning\n",
    "from sklearn.cluster import KMeans\n",
    "from sklearn.preprocessing import StandardScaler"
   ]
  },
  {
   "cell_type": "markdown",
   "metadata": {},
   "source": [
    "### Load the Dataset into Pandas"
   ]
  },
  {
   "cell_type": "code",
   "execution_count": 85,
   "metadata": {},
   "outputs": [
    {
     "data": {
      "text/html": [
       "<div>\n",
       "<style scoped>\n",
       "    .dataframe tbody tr th:only-of-type {\n",
       "        vertical-align: middle;\n",
       "    }\n",
       "\n",
       "    .dataframe tbody tr th {\n",
       "        vertical-align: top;\n",
       "    }\n",
       "\n",
       "    .dataframe thead th {\n",
       "        text-align: right;\n",
       "    }\n",
       "</style>\n",
       "<table border=\"1\" class=\"dataframe\">\n",
       "  <thead>\n",
       "    <tr style=\"text-align: right;\">\n",
       "      <th></th>\n",
       "      <th>step</th>\n",
       "      <th>type</th>\n",
       "      <th>amount</th>\n",
       "      <th>nameOrig</th>\n",
       "      <th>oldbalanceOrg</th>\n",
       "      <th>newbalanceOrig</th>\n",
       "      <th>nameDest</th>\n",
       "      <th>oldbalanceDest</th>\n",
       "      <th>newbalanceDest</th>\n",
       "      <th>isFraud</th>\n",
       "      <th>isFlaggedFraud</th>\n",
       "    </tr>\n",
       "  </thead>\n",
       "  <tbody>\n",
       "    <tr>\n",
       "      <th>0</th>\n",
       "      <td>1</td>\n",
       "      <td>PAYMENT</td>\n",
       "      <td>9839.64</td>\n",
       "      <td>C1231006815</td>\n",
       "      <td>170136.00</td>\n",
       "      <td>160296.36</td>\n",
       "      <td>M1979787155</td>\n",
       "      <td>0.00</td>\n",
       "      <td>0.00</td>\n",
       "      <td>0</td>\n",
       "      <td>0</td>\n",
       "    </tr>\n",
       "    <tr>\n",
       "      <th>1</th>\n",
       "      <td>1</td>\n",
       "      <td>PAYMENT</td>\n",
       "      <td>1864.28</td>\n",
       "      <td>C1666544295</td>\n",
       "      <td>21249.00</td>\n",
       "      <td>19384.72</td>\n",
       "      <td>M2044282225</td>\n",
       "      <td>0.00</td>\n",
       "      <td>0.00</td>\n",
       "      <td>0</td>\n",
       "      <td>0</td>\n",
       "    </tr>\n",
       "    <tr>\n",
       "      <th>2</th>\n",
       "      <td>1</td>\n",
       "      <td>TRANSFER</td>\n",
       "      <td>181.00</td>\n",
       "      <td>C1305486145</td>\n",
       "      <td>181.00</td>\n",
       "      <td>0.00</td>\n",
       "      <td>C553264065</td>\n",
       "      <td>0.00</td>\n",
       "      <td>0.00</td>\n",
       "      <td>1</td>\n",
       "      <td>0</td>\n",
       "    </tr>\n",
       "    <tr>\n",
       "      <th>3</th>\n",
       "      <td>1</td>\n",
       "      <td>CASH_OUT</td>\n",
       "      <td>181.00</td>\n",
       "      <td>C840083671</td>\n",
       "      <td>181.00</td>\n",
       "      <td>0.00</td>\n",
       "      <td>C38997010</td>\n",
       "      <td>21182.00</td>\n",
       "      <td>0.00</td>\n",
       "      <td>1</td>\n",
       "      <td>0</td>\n",
       "    </tr>\n",
       "    <tr>\n",
       "      <th>4</th>\n",
       "      <td>1</td>\n",
       "      <td>PAYMENT</td>\n",
       "      <td>11668.14</td>\n",
       "      <td>C2048537720</td>\n",
       "      <td>41554.00</td>\n",
       "      <td>29885.86</td>\n",
       "      <td>M1230701703</td>\n",
       "      <td>0.00</td>\n",
       "      <td>0.00</td>\n",
       "      <td>0</td>\n",
       "      <td>0</td>\n",
       "    </tr>\n",
       "  </tbody>\n",
       "</table>\n",
       "</div>"
      ],
      "text/plain": [
       "   step      type   amount     nameOrig  oldbalanceOrg  newbalanceOrig  \\\n",
       "0     1   PAYMENT  9839.64  C1231006815      170136.00       160296.36   \n",
       "1     1   PAYMENT  1864.28  C1666544295       21249.00        19384.72   \n",
       "2     1  TRANSFER   181.00  C1305486145         181.00            0.00   \n",
       "3     1  CASH_OUT   181.00   C840083671         181.00            0.00   \n",
       "4     1   PAYMENT 11668.14  C2048537720       41554.00        29885.86   \n",
       "\n",
       "      nameDest  oldbalanceDest  newbalanceDest  isFraud  isFlaggedFraud  \n",
       "0  M1979787155            0.00            0.00        0               0  \n",
       "1  M2044282225            0.00            0.00        0               0  \n",
       "2   C553264065            0.00            0.00        1               0  \n",
       "3    C38997010        21182.00            0.00        1               0  \n",
       "4  M1230701703            0.00            0.00        0               0  "
      ]
     },
     "execution_count": 85,
     "metadata": {},
     "output_type": "execute_result"
    }
   ],
   "source": [
    "df = pd.read_csv('C:/Users/diego/Documents/Proyectos de datos/Datos/Fraud.csv')\n",
    "\n",
    "# Display the first few rows\n",
    "df.head()"
   ]
  },
  {
   "cell_type": "code",
   "execution_count": 86,
   "metadata": {},
   "outputs": [
    {
     "name": "stdout",
     "output_type": "stream",
     "text": [
      "<class 'pandas.core.frame.DataFrame'>\n",
      "RangeIndex: 6362620 entries, 0 to 6362619\n",
      "Data columns (total 11 columns):\n",
      " #   Column          Dtype  \n",
      "---  ------          -----  \n",
      " 0   step            int64  \n",
      " 1   type            object \n",
      " 2   amount          float64\n",
      " 3   nameOrig        object \n",
      " 4   oldbalanceOrg   float64\n",
      " 5   newbalanceOrig  float64\n",
      " 6   nameDest        object \n",
      " 7   oldbalanceDest  float64\n",
      " 8   newbalanceDest  float64\n",
      " 9   isFraud         int64  \n",
      " 10  isFlaggedFraud  int64  \n",
      "dtypes: float64(5), int64(3), object(3)\n",
      "memory usage: 534.0+ MB\n"
     ]
    }
   ],
   "source": [
    "df.info() # 6362620 rows, 10 columns"
   ]
  },
  {
   "cell_type": "markdown",
   "metadata": {},
   "source": [
    "## Explore and clean the data"
   ]
  },
  {
   "cell_type": "code",
   "execution_count": 87,
   "metadata": {},
   "outputs": [
    {
     "data": {
      "text/plain": [
       "step              0\n",
       "type              0\n",
       "amount            0\n",
       "nameOrig          0\n",
       "oldbalanceOrg     0\n",
       "newbalanceOrig    0\n",
       "nameDest          0\n",
       "oldbalanceDest    0\n",
       "newbalanceDest    0\n",
       "isFraud           0\n",
       "isFlaggedFraud    0\n",
       "dtype: int64"
      ]
     },
     "execution_count": 87,
     "metadata": {},
     "output_type": "execute_result"
    }
   ],
   "source": [
    "# Check for missing values in columns\n",
    "df.isnull().sum()"
   ]
  },
  {
   "cell_type": "markdown",
   "metadata": {},
   "source": [
    "### Correlation matrix\n",
    "We want to select the Numerical Columns because for the correlation matrix only we can use float variables."
   ]
  },
  {
   "cell_type": "code",
   "execution_count": 88,
   "metadata": {},
   "outputs": [],
   "source": [
    "# Select only the numerical columns\n",
    "numerical_columns = ['step', 'amount', 'oldbalanceOrg', 'newbalanceOrig', 'oldbalanceDest', 'newbalanceDest', 'isFraud', 'isFlaggedFraud']\n",
    "df_numerical = df[numerical_columns]"
   ]
  },
  {
   "cell_type": "code",
   "execution_count": 89,
   "metadata": {},
   "outputs": [
    {
     "data": {
      "text/plain": [
       "<Axes: >"
      ]
     },
     "execution_count": 89,
     "metadata": {},
     "output_type": "execute_result"
    },
    {
     "data": {
      "image/png": "[encoded data removed]",
      "text/plain": [
       "<Figure size 1500x750 with 2 Axes>"
      ]
     },
     "metadata": {},
     "output_type": "display_data"
    }
   ],
   "source": [
    "plt.figure(figsize=(15,7.5))\n",
    "sns.heatmap(df_numerical.corr(), annot=True, vmin=-1, vmax=+1, cmap='RdYlGn')"
   ]
  },
  {
   "cell_type": "markdown",
   "metadata": {},
   "source": [
    "We can see how it is logical\n",
    "\n",
    "- High Correlation Between oldbalanceOrg and newbalanceOrig.\n",
    "\n",
    "- High Correlation Between oldbalanceDest and newbalanceDest.\n",
    "\n",
    "- Weak Correlation with isFraud:\n",
    "\n",
    "The correlations between isFraud and other numerical variables are generally weak: The highest correlation with isFraud is 0.077 with amount, suggesting a very weak relationship between transaction amounts and fraudulent behavior. Other features like oldbalanceOrg, newbalanceOrig, oldbalanceDest, and newbalanceDest have correlations near zero, indicating little to no linear relationship with fraud.\n",
    "\n",
    "This means that none of the features in their current form have a strong linear correlation with whether a transaction is fraudulent. However, this doesn't necessarily mean they aren't useful for predicting fraud — non-linear relationships might exist that can still be captured by machine learning models.\n",
    "\n",
    "Weak Correlation with Fraud: The weak correlations with isFraud suggest that there might be more complex, non-linear relationships in the data that a simple correlation matrix can't capture. We'll likely need more advanced machine learning techniques to detect fraud effectively.\n",
    "\n",
    "Balance Features: Since the old and new balances are highly correlated, we might consider focusing on derived features like the difference between old and new balances for both origin and destination accounts. Feature Engineering is Key, we should consider creating new features like: Balance change features (oldbalance - newbalance)."
   ]
  },
  {
   "cell_type": "markdown",
   "metadata": {},
   "source": [
    "## Exploratory data analysis (EDA)"
   ]
  },
  {
   "cell_type": "markdown",
   "metadata": {},
   "source": [
    "### Basic Descriptive Statistics"
   ]
  },
  {
   "cell_type": "code",
   "execution_count": 90,
   "metadata": {},
   "outputs": [
    {
     "data": {
      "text/html": [
       "<div>\n",
       "<style scoped>\n",
       "    .dataframe tbody tr th:only-of-type {\n",
       "        vertical-align: middle;\n",
       "    }\n",
       "\n",
       "    .dataframe tbody tr th {\n",
       "        vertical-align: top;\n",
       "    }\n",
       "\n",
       "    .dataframe thead th {\n",
       "        text-align: right;\n",
       "    }\n",
       "</style>\n",
       "<table border=\"1\" class=\"dataframe\">\n",
       "  <thead>\n",
       "    <tr style=\"text-align: right;\">\n",
       "      <th></th>\n",
       "      <th>step</th>\n",
       "      <th>amount</th>\n",
       "      <th>oldbalanceOrg</th>\n",
       "      <th>newbalanceOrig</th>\n",
       "      <th>oldbalanceDest</th>\n",
       "      <th>newbalanceDest</th>\n",
       "      <th>isFraud</th>\n",
       "      <th>isFlaggedFraud</th>\n",
       "    </tr>\n",
       "  </thead>\n",
       "  <tbody>\n",
       "    <tr>\n",
       "      <th>count</th>\n",
       "      <td>6362620.00</td>\n",
       "      <td>6362620.00</td>\n",
       "      <td>6362620.00</td>\n",
       "      <td>6362620.00</td>\n",
       "      <td>6362620.00</td>\n",
       "      <td>6362620.00</td>\n",
       "      <td>6362620.00</td>\n",
       "      <td>6362620.00</td>\n",
       "    </tr>\n",
       "    <tr>\n",
       "      <th>mean</th>\n",
       "      <td>243.40</td>\n",
       "      <td>179861.90</td>\n",
       "      <td>833883.10</td>\n",
       "      <td>855113.67</td>\n",
       "      <td>1100701.67</td>\n",
       "      <td>1224996.40</td>\n",
       "      <td>0.00</td>\n",
       "      <td>0.00</td>\n",
       "    </tr>\n",
       "    <tr>\n",
       "      <th>std</th>\n",
       "      <td>142.33</td>\n",
       "      <td>603858.23</td>\n",
       "      <td>2888242.67</td>\n",
       "      <td>2924048.50</td>\n",
       "      <td>3399180.11</td>\n",
       "      <td>3674128.94</td>\n",
       "      <td>0.04</td>\n",
       "      <td>0.00</td>\n",
       "    </tr>\n",
       "    <tr>\n",
       "      <th>min</th>\n",
       "      <td>1.00</td>\n",
       "      <td>0.00</td>\n",
       "      <td>0.00</td>\n",
       "      <td>0.00</td>\n",
       "      <td>0.00</td>\n",
       "      <td>0.00</td>\n",
       "      <td>0.00</td>\n",
       "      <td>0.00</td>\n",
       "    </tr>\n",
       "    <tr>\n",
       "      <th>25%</th>\n",
       "      <td>156.00</td>\n",
       "      <td>13389.57</td>\n",
       "      <td>0.00</td>\n",
       "      <td>0.00</td>\n",
       "      <td>0.00</td>\n",
       "      <td>0.00</td>\n",
       "      <td>0.00</td>\n",
       "      <td>0.00</td>\n",
       "    </tr>\n",
       "    <tr>\n",
       "      <th>50%</th>\n",
       "      <td>239.00</td>\n",
       "      <td>74871.94</td>\n",
       "      <td>14208.00</td>\n",
       "      <td>0.00</td>\n",
       "      <td>132705.66</td>\n",
       "      <td>214661.44</td>\n",
       "      <td>0.00</td>\n",
       "      <td>0.00</td>\n",
       "    </tr>\n",
       "    <tr>\n",
       "      <th>75%</th>\n",
       "      <td>335.00</td>\n",
       "      <td>208721.48</td>\n",
       "      <td>107315.18</td>\n",
       "      <td>144258.41</td>\n",
       "      <td>943036.71</td>\n",
       "      <td>1111909.25</td>\n",
       "      <td>0.00</td>\n",
       "      <td>0.00</td>\n",
       "    </tr>\n",
       "    <tr>\n",
       "      <th>max</th>\n",
       "      <td>743.00</td>\n",
       "      <td>92445516.64</td>\n",
       "      <td>59585040.37</td>\n",
       "      <td>49585040.37</td>\n",
       "      <td>356015889.35</td>\n",
       "      <td>356179278.92</td>\n",
       "      <td>1.00</td>\n",
       "      <td>1.00</td>\n",
       "    </tr>\n",
       "  </tbody>\n",
       "</table>\n",
       "</div>"
      ],
      "text/plain": [
       "            step      amount  oldbalanceOrg  newbalanceOrig  oldbalanceDest  \\\n",
       "count 6362620.00  6362620.00     6362620.00      6362620.00      6362620.00   \n",
       "mean      243.40   179861.90      833883.10       855113.67      1100701.67   \n",
       "std       142.33   603858.23     2888242.67      2924048.50      3399180.11   \n",
       "min         1.00        0.00           0.00            0.00            0.00   \n",
       "25%       156.00    13389.57           0.00            0.00            0.00   \n",
       "50%       239.00    74871.94       14208.00            0.00       132705.66   \n",
       "75%       335.00   208721.48      107315.18       144258.41       943036.71   \n",
       "max       743.00 92445516.64    59585040.37     49585040.37    356015889.35   \n",
       "\n",
       "       newbalanceDest    isFraud  isFlaggedFraud  \n",
       "count      6362620.00 6362620.00      6362620.00  \n",
       "mean       1224996.40       0.00            0.00  \n",
       "std        3674128.94       0.04            0.00  \n",
       "min              0.00       0.00            0.00  \n",
       "25%              0.00       0.00            0.00  \n",
       "50%         214661.44       0.00            0.00  \n",
       "75%        1111909.25       0.00            0.00  \n",
       "max      356179278.92       1.00            1.00  "
      ]
     },
     "execution_count": 90,
     "metadata": {},
     "output_type": "execute_result"
    }
   ],
   "source": [
    "# Basic statistics\n",
    "df.describe()"
   ]
  },
  {
   "cell_type": "markdown",
   "metadata": {},
   "source": [
    "### Distribution of Fraudulent vs Non-Fraudulent Transactions"
   ]
  },
  {
   "cell_type": "code",
   "execution_count": 91,
   "metadata": {},
   "outputs": [
    {
     "data": {
      "image/png": "[encoded data removed]",
      "text/plain": [
       "<Figure size 640x480 with 1 Axes>"
      ]
     },
     "metadata": {},
     "output_type": "display_data"
    }
   ],
   "source": [
    "# Countplot for isFraud\n",
    "sns.countplot(x='isFraud', data=df)\n",
    "plt.title('Distribution of Fraudulent vs Non-Fraudulent Transactions')\n",
    "plt.show()"
   ]
  },
  {
   "cell_type": "markdown",
   "metadata": {},
   "source": [
    "### Fraudulent transactions for each transaction type."
   ]
  },
  {
   "cell_type": "code",
   "execution_count": 92,
   "metadata": {},
   "outputs": [
    {
     "name": "stdout",
     "output_type": "stream",
     "text": [
      "type\n",
      "CASH_OUT    4116\n",
      "TRANSFER    4097\n",
      "Name: isFraud, dtype: int64\n"
     ]
    }
   ],
   "source": [
    "# Number of fraudulent transactions by type\n",
    "fraudulent_transactions_type = df[df['isFraud'] == 1].groupby('type')['isFraud'].count()\n",
    "print(fraudulent_transactions_type)\n"
   ]
  },
  {
   "cell_type": "code",
   "execution_count": 93,
   "metadata": {},
   "outputs": [
    {
     "name": "stdout",
     "output_type": "stream",
     "text": [
      "      step      type     amount     nameOrig  oldbalanceOrg  newbalanceOrig  \\\n",
      "2        1  TRANSFER     181.00  C1305486145         181.00            0.00   \n",
      "3        1  CASH_OUT     181.00   C840083671         181.00            0.00   \n",
      "251      1  TRANSFER    2806.00  C1420196421        2806.00            0.00   \n",
      "252      1  CASH_OUT    2806.00  C2101527076        2806.00            0.00   \n",
      "680      1  TRANSFER   20128.00   C137533655       20128.00            0.00   \n",
      "681      1  CASH_OUT   20128.00  C1118430673       20128.00            0.00   \n",
      "724      1  CASH_OUT  416001.33   C749981943           0.00            0.00   \n",
      "969      1  TRANSFER 1277212.77  C1334405552     1277212.77            0.00   \n",
      "970      1  CASH_OUT 1277212.77   C467632528     1277212.77            0.00   \n",
      "1115     1  TRANSFER   35063.63  C1364127192       35063.63            0.00   \n",
      "1116     1  CASH_OUT   35063.63  C1635772897       35063.63            0.00   \n",
      "1869     1  TRANSFER   25071.46   C669700766       25071.46            0.00   \n",
      "1870     1  CASH_OUT   25071.46  C1275464847       25071.46            0.00   \n",
      "1911     1  CASH_OUT  132842.64    C13692003        4499.08            0.00   \n",
      "2301     1  TRANSFER  235238.66  C1872047468      235238.66            0.00   \n",
      "\n",
      "         nameDest  oldbalanceDest  newbalanceDest  isFraud  isFlaggedFraud  \n",
      "2      C553264065            0.00            0.00        1               0  \n",
      "3       C38997010        21182.00            0.00        1               0  \n",
      "251    C972765878            0.00            0.00        1               0  \n",
      "252   C1007251739        26202.00            0.00        1               0  \n",
      "680   C1848415041            0.00            0.00        1               0  \n",
      "681    C339924917         6268.00        12145.85        1               0  \n",
      "724    C667346055          102.00      9291619.62        1               0  \n",
      "969    C431687661            0.00            0.00        1               0  \n",
      "970    C716083600            0.00      2444985.19        1               0  \n",
      "1115  C1136419747            0.00            0.00        1               0  \n",
      "1116  C1983025922        31140.00         7550.03        1               0  \n",
      "1869  C1384210339            0.00            0.00        1               0  \n",
      "1870  C1364913072         9083.76        34155.22        1               0  \n",
      "1911   C297927961            0.00       132842.64        1               0  \n",
      "2301   C116289363            0.00            0.00        1               0  \n"
     ]
    }
   ],
   "source": [
    "# Display the first 15 fraudulent transactions\n",
    "fraudulent_transactions = df[df['isFraud'] == 1]\n",
    "print(fraudulent_transactions.head(15))"
   ]
  },
  {
   "cell_type": "markdown",
   "metadata": {},
   "source": [
    "We can observe that there are transaction when the balance in the origin account is zero and the new balance in the destination account stay zero after the money transfer.  How that is possible?\n",
    "\n",
    "This seems like an anomaly and a potential sign of fraudulent behavior or poor data integrity. In a normal system, you shouldn’t be able to transfer money if the balance in the origin account is zero. This could indicate:\n",
    "- The transaction bypasses proper checks (in the case of a bug or vulnerability).\n",
    "- The dataset itself may have some synthetic data or issues.\n",
    "- A failed transaction.\n",
    "- A possible fraudulent transaction that was never reflected in the destination account.\n",
    "  \n",
    "We should flag such cases where the transaction amount is positive, but the old balance of the origin account (oldbalanceOrg) is zero."
   ]
  },
  {
   "cell_type": "code",
   "execution_count": 94,
   "metadata": {},
   "outputs": [
    {
     "name": "stdout",
     "output_type": "stream",
     "text": [
      "type\n",
      "CASH_OUT   0.00\n",
      "TRANSFER   0.01\n",
      "Name: isFraud, dtype: float64\n"
     ]
    }
   ],
   "source": [
    "\n",
    "filtered_df = df[df['type'].isin(['TRANSFER', 'CASH_OUT'])]\n",
    "total_transactions = filtered_df.groupby('type')['isFraud'].count()\n",
    "\n",
    "# Calculate the proportion of fraudulent transactions for the transaction types of TRANSFER and CASH_OUT\n",
    "fraud_proportion = fraudulent_transactions_type / total_transactions\n",
    "print(fraud_proportion)"
   ]
  },
  {
   "cell_type": "markdown",
   "metadata": {},
   "source": [
    "The proportion of fraudulent transactions is much less than 1%, so the data is imbalanced.\n",
    "\n",
    "We should handle this imbalance before applying machine learning models. Some techniques to handle imbalanced data include:\n",
    "- Resampling (oversampling the minority class or undersampling the majority class).\n",
    "- Using class weights in certain machine learning algorithms to give more importance to the minority class (fraudulent transactions).\n",
    "- Anomaly detection models might also be appropriate given the rare nature of fraudulent events."
   ]
  },
  {
   "cell_type": "markdown",
   "metadata": {},
   "source": [
    "### Top 10 maximum amounts of transactions"
   ]
  },
  {
   "cell_type": "code",
   "execution_count": 95,
   "metadata": {},
   "outputs": [
    {
     "name": "stdout",
     "output_type": "stream",
     "text": [
      "         step      type      amount     nameOrig  oldbalanceOrg  \\\n",
      "3686583   276  TRANSFER 92445516.64  C1715283297           0.00   \n",
      "4060598   300  TRANSFER 73823490.36  C2127282686           0.00   \n",
      "4146397   303  TRANSFER 71172480.42  C2044643633           0.00   \n",
      "3946920   286  TRANSFER 69886731.30  C1425667947           0.00   \n",
      "3911956   284  TRANSFER 69337316.27  C1584456031           0.00   \n",
      "3937152   286  TRANSFER 67500761.29   C811810230           0.00   \n",
      "4105338   302  TRANSFER 66761272.21   C420748282           0.00   \n",
      "3892529   284  TRANSFER 64234448.19  C1139847449           0.00   \n",
      "3991638   298  TRANSFER 63847992.58   C300140823           0.00   \n",
      "4143801   303  TRANSFER 63294839.63   C372535854           0.00   \n",
      "\n",
      "         newbalanceOrig     nameDest  oldbalanceDest  newbalanceDest  isFraud  \\\n",
      "3686583            0.00   C439737079         9595.98     92455112.62        0   \n",
      "4060598            0.00   C753026640     93624010.19    167447500.55        0   \n",
      "4146397            0.00    C84111522    113461513.64    184633994.07        0   \n",
      "3946920            0.00   C167875008    151538710.86    221425442.16        0   \n",
      "3911956            0.00  C1472140329    113007240.28    182344556.54        0   \n",
      "3937152            0.00  C1757599079     86356149.52    153856910.81        0   \n",
      "4105338            0.00  C1073241084     68742058.42    135503330.62        0   \n",
      "3892529            0.00    C65111466     65976908.56    166302068.86        0   \n",
      "3991638            0.00   C514940761     72171494.33    136019486.91        0   \n",
      "4143801            0.00  C1871605747     75125284.21    138420123.84        0   \n",
      "\n",
      "         isFlaggedFraud  \n",
      "3686583               0  \n",
      "4060598               0  \n",
      "4146397               0  \n",
      "3946920               0  \n",
      "3911956               0  \n",
      "3937152               0  \n",
      "4105338               0  \n",
      "3892529               0  \n",
      "3991638               0  \n",
      "4143801               0  \n"
     ]
    }
   ],
   "source": [
    "# Sort the dataset by the 'amount' column in descending order and select the top 10 rows\n",
    "top_10_transactions = df.sort_values(by='amount', ascending=False).head(10)\n",
    "print(top_10_transactions)"
   ]
  },
  {
   "cell_type": "markdown",
   "metadata": {},
   "source": [
    "## Prepare the data"
   ]
  },
  {
   "cell_type": "markdown",
   "metadata": {},
   "source": [
    "We can improve the modelling data by adding new features, filtering unnecessary transaction types, and increasing the proportion of the target variable isFraud by applying undersampling.\n",
    "\n",
    "Based on our findings from the analysis phase, we only need to analyse the transaction types \"TRANSFER\" and \"CASH_OUT\" and filter the rest. We can also compute new variables from the existing amount values.\n",
    "\n",
    "The dataset contains an extremely unbalanced target for fraud (fraud rate in the raw data = 0.0013%). Having rare events is common for fraud. In order to make the pattern of fraudulent behaviour more obvious for the machine learning algorithms, and also make it easy to interpret the results, stratify the data and increase the proportion of the fraudulent flags."
   ]
  },
  {
   "cell_type": "markdown",
   "metadata": {},
   "source": [
    "One of the key challenges in machine learning is dealing with categorical variables—features that represent categories rather than continuous values. In our dataset, the type variable (e.g., TRANSFER, CASH_OUT) is a good example of this. Since ML methods expects numerical input, we need to transform these categorical variables into a format that the model can understand.\n",
    "\n",
    "To do this, we will use a technique called one-hot encoding. One-hot encoding converts each unique category into a separate binary feature (0 or 1), allowing the model to treat these categories independently. Fortunately, this transformation can be done automatically in many environments, which will handle the one-hot encoding for us."
   ]
  },
  {
   "cell_type": "markdown",
   "metadata": {},
   "source": [
    "Steps:\n",
    "\n",
    "    1 Filter by transaction types (\"CASH_OUT\" and \"TRANSFER\") and One-Hot encode the categorical variable. \n",
    "    \n",
    "    2 Add new features (origzeroFlag, destzeroFlag, amountError, and a unique id for each transaction).\n",
    "\n",
    "    3 One-hot encode the 'type' column\n",
    "\n",
    "    4 Undersample non-fraudulent transactions (take 10% of non-fraud transactions)."
   ]
  },
  {
   "cell_type": "code",
   "execution_count": 106,
   "metadata": {},
   "outputs": [
    {
     "name": "stderr",
     "output_type": "stream",
     "text": [
      "C:\\Users\\diego\\AppData\\Local\\Temp\\ipykernel_13300\\369651635.py:7: SettingWithCopyWarning: \n",
      "A value is trying to be set on a copy of a slice from a DataFrame.\n",
      "Try using .loc[row_indexer,col_indexer] = value instead\n",
      "\n",
      "See the caveats in the documentation: https://pandas.pydata.org/pandas-docs/stable/user_guide/indexing.html#returning-a-view-versus-a-copy\n",
      "  filtered_df['origzeroFlag'] = np.where(filtered_df['oldbalanceOrg'] == 0.0, 1, 0)\n",
      "C:\\Users\\diego\\AppData\\Local\\Temp\\ipykernel_13300\\369651635.py:8: SettingWithCopyWarning: \n",
      "A value is trying to be set on a copy of a slice from a DataFrame.\n",
      "Try using .loc[row_indexer,col_indexer] = value instead\n",
      "\n",
      "See the caveats in the documentation: https://pandas.pydata.org/pandas-docs/stable/user_guide/indexing.html#returning-a-view-versus-a-copy\n",
      "  filtered_df['destzeroFlag'] = np.where(filtered_df['newbalanceDest'] == 0.0, 1, 0)\n",
      "C:\\Users\\diego\\AppData\\Local\\Temp\\ipykernel_13300\\369651635.py:9: SettingWithCopyWarning: \n",
      "A value is trying to be set on a copy of a slice from a DataFrame.\n",
      "Try using .loc[row_indexer,col_indexer] = value instead\n",
      "\n",
      "See the caveats in the documentation: https://pandas.pydata.org/pandas-docs/stable/user_guide/indexing.html#returning-a-view-versus-a-copy\n",
      "  filtered_df['amountError'] = round(filtered_df['newbalanceDest'] - filtered_df['oldbalanceDest'] - filtered_df['amount'])\n"
     ]
    },
    {
     "name": "stdout",
     "output_type": "stream",
     "text": [
      "     step   amount     nameOrig  oldbalanceOrg  newbalanceOrig     nameDest  \\\n",
      "2       1   181.00  C1305486145         181.00            0.00   C553264065   \n",
      "3       1   181.00   C840083671         181.00            0.00    C38997010   \n",
      "251     1  2806.00  C1420196421        2806.00            0.00   C972765878   \n",
      "252     1  2806.00  C2101527076        2806.00            0.00  C1007251739   \n",
      "680     1 20128.00   C137533655       20128.00            0.00  C1848415041   \n",
      "\n",
      "     oldbalanceDest  newbalanceDest  isFraud  isFlaggedFraud  origzeroFlag  \\\n",
      "2              0.00            0.00        1               0             0   \n",
      "3          21182.00            0.00        1               0             0   \n",
      "251            0.00            0.00        1               0             0   \n",
      "252        26202.00            0.00        1               0             0   \n",
      "680            0.00            0.00        1               0             0   \n",
      "\n",
      "     destzeroFlag  amountError  type_CASH_OUT  type_TRANSFER  \\\n",
      "2               1      -181.00          False           True   \n",
      "3               1    -21363.00           True          False   \n",
      "251             1     -2806.00          False           True   \n",
      "252             1    -29008.00           True          False   \n",
      "680             1    -20128.00          False           True   \n",
      "\n",
      "                                       id  \n",
      "2    e09317af-b474-4e7a-a065-7cd98c4b8bb0  \n",
      "3    ecd72622-e72b-43a6-8aaf-f56a27bb447f  \n",
      "251  b73acdff-4a13-4461-8fd6-4ce20e74370f  \n",
      "252  fe5a7c7a-2ca2-49cc-9b7f-19f3bdca7789  \n",
      "680  4ea33f27-198b-4f03-805c-0cf066c81fc3  \n"
     ]
    }
   ],
   "source": [
    "import uuid\n",
    "\n",
    "# Filter\n",
    "filtered_df = df[df['type'].isin(['CASH_OUT', 'TRANSFER'])]\n",
    "\n",
    "# Add new features\n",
    "filtered_df['origzeroFlag'] = np.where(filtered_df['oldbalanceOrg'] == 0.0, 1, 0)\n",
    "filtered_df['destzeroFlag'] = np.where(filtered_df['newbalanceDest'] == 0.0, 1, 0)\n",
    "filtered_df['amountError'] = round(filtered_df['newbalanceDest'] - filtered_df['oldbalanceDest'] - filtered_df['amount'])\n",
    "\n",
    "# One-hot encode the 'type' column (for example, 'TRANSFER' and 'CASH_OUT')\n",
    "filtered_df = pd.get_dummies(filtered_df, columns=['type'], drop_first=False)\n",
    "\n",
    "# Create a unique id for each transaction\n",
    "filtered_df['id'] = [str(uuid.uuid4()) for _ in range(len(filtered_df))]\n",
    "\n",
    "# Undersample: select all fraudulent transactions and 10% of non-fraudulent ones\n",
    "fraud_df = filtered_df[filtered_df['isFraud'] == 1]  # All fraudulent cases\n",
    "non_fraud_df = filtered_df[filtered_df['isFraud'] == 0].sample(frac=0.10, random_state=42)  # 10% of non-fraudulent cases\n",
    "\n",
    "# Combine both fraud and undersampled non-fraud data\n",
    "undersampled_df = pd.concat([fraud_df, non_fraud_df])\n",
    "\n",
    "print(undersampled_df.head()) \n"
   ]
  },
  {
   "cell_type": "markdown",
   "metadata": {},
   "source": [
    "We will create now a TEST dataset by selecting a random sample of 20% for scoring the model at the final stage. \n",
    "This data will be kept separate and not be included in training."
   ]
  },
  {
   "cell_type": "code",
   "execution_count": 107,
   "metadata": {},
   "outputs": [
    {
     "name": "stdout",
     "output_type": "stream",
     "text": [
      "Test data shape: (56887, 16)\n"
     ]
    }
   ],
   "source": [
    "# Take a random sample of 20% from undersampled_df for the test set\n",
    "test_data = undersampled_df.sample(frac=0.20, random_state=42)\n",
    "\n",
    "# Display the shape of the test data to verify\n",
    "print(\"Test data shape:\", test_data.shape)"
   ]
  },
  {
   "cell_type": "markdown",
   "metadata": {},
   "source": [
    "We will create a model data table with the remaining 80%"
   ]
  },
  {
   "cell_type": "code",
   "execution_count": 108,
   "metadata": {},
   "outputs": [
    {
     "name": "stdout",
     "output_type": "stream",
     "text": [
      "Model data shape: (227546, 16)\n"
     ]
    }
   ],
   "source": [
    "# Create the model data by excluding the test data from undersampled_df\n",
    "model_data = undersampled_df.drop(test_data.index)\n",
    "\n",
    "# Display the shape of the model data to verify\n",
    "print(\"Model data shape:\", model_data.shape)"
   ]
  },
  {
   "cell_type": "markdown",
   "metadata": {},
   "source": [
    "The sample data that we created for modelling contains approximately 228k rows of banking transactions."
   ]
  },
  {
   "cell_type": "markdown",
   "metadata": {},
   "source": [
    "## Train an unsupervised model to detect anomalies"
   ]
  },
  {
   "cell_type": "markdown",
   "metadata": {},
   "source": [
    "Unsupervised methods are commonly used in fraud detection to explore the abnormal behaviour in the data. It also helps when there are no labels for fraud or the event rate is very low and the number of occurrences does not allow you to build a supervised model.\n",
    "\n",
    "In this section, we will use *k-means clustering algorithm* to create segments of transactions, analyse each segment and detect the ones with anomalies.\n"
   ]
  },
  {
   "cell_type": "markdown",
   "metadata": {},
   "source": [
    "### 1. Train the K-Means Model on the model_data:"
   ]
  },
  {
   "cell_type": "code",
   "execution_count": 99,
   "metadata": {},
   "outputs": [
    {
     "name": "stdout",
     "output_type": "stream",
     "text": [
      "     centroid_id\n",
      "3              0\n",
      "251            4\n",
      "252            0\n",
      "680            4\n",
      "681            0\n"
     ]
    }
   ],
   "source": [
    "# Step 1: Select the relevant columns for clustering\n",
    "features = ['amount', 'oldbalanceOrg', 'newbalanceOrig', 'oldbalanceDest', 'newbalanceDest',\n",
    "            'origzeroFlag', 'destzeroFlag', 'amountError', 'type_CASH_OUT', 'type_TRANSFER']\n",
    "\n",
    "# Step 2: Scale the features using StandardScaler\n",
    "scaler = StandardScaler()\n",
    "scaled_model_data = scaler.fit_transform(model_data[features])\n",
    "\n",
    "# Step 3: Train the K-Means model\n",
    "# Choose a number of clusters, for example 5\n",
    "kmeans = KMeans(n_clusters=5, random_state=42)\n",
    "model_data['centroid_id'] = kmeans.fit_predict(scaled_model_data)\n",
    "\n",
    "# Step 4: Check the assigned clusters (centroid_id)\n",
    "print(model_data[['centroid_id']].head())"
   ]
  },
  {
   "cell_type": "markdown",
   "metadata": {},
   "source": [
    "### 2. Score the test_data:"
   ]
  },
  {
   "cell_type": "markdown",
   "metadata": {},
   "source": [
    "Next, we will use the trained K-Means model to predict the centroid_id for each transaction in the test_data (20% of the dataset)."
   ]
  },
  {
   "cell_type": "code",
   "execution_count": 100,
   "metadata": {},
   "outputs": [
    {
     "name": "stdout",
     "output_type": "stream",
     "text": [
      "           amount  oldbalanceOrg  newbalanceOrig  oldbalanceDest  \\\n",
      "925051  377428.19           0.00            0.00       709039.64   \n",
      "4343135 220898.60           0.00            0.00       979278.26   \n",
      "5955076  47730.79           0.00            0.00      1102332.42   \n",
      "2473624 560191.64           0.00            0.00       809366.77   \n",
      "408111   94627.56       32528.46            0.00      1460597.18   \n",
      "\n",
      "         newbalanceDest  origzeroFlag  destzeroFlag  amountError  \\\n",
      "925051       1086467.83             1             0         0.00   \n",
      "4343135      1200176.86             1             0         0.00   \n",
      "5955076      1150063.21             1             0         0.00   \n",
      "2473624      1369558.41             1             0        -0.00   \n",
      "408111       1555224.75             0             0         0.00   \n",
      "\n",
      "         type_CASH_OUT  type_TRANSFER  \n",
      "925051            True          False  \n",
      "4343135           True          False  \n",
      "5955076           True          False  \n",
      "2473624          False           True  \n",
      "408111            True          False  \n"
     ]
    }
   ],
   "source": [
    "# Scale the test data using the same scaler that was used for the training data\n",
    "scaled_test_data = scaler.transform(test_data[clustering_features])\n",
    "\n",
    "# Predict the centroid_id (cluster) for each transaction in the test data\n",
    "test_data['centroid_id'] = kmeans.predict(scaled_test_data)\n",
    "\n",
    "# Display the first few rows to verify\n",
    "print(test_data[features].head())\n"
   ]
  },
  {
   "cell_type": "markdown",
   "metadata": {},
   "source": [
    "### 3. Analyze the Distribution of Fraudulent Transactions in Each Cluster:"
   ]
  },
  {
   "cell_type": "code",
   "execution_count": 101,
   "metadata": {},
   "outputs": [
    {
     "name": "stdout",
     "output_type": "stream",
     "text": [
      "             Total Transactions  Fraudulent Transactions  Fraud Percentage (%)\n",
      "centroid_id                                                                   \n",
      "0                         24895                      782                  3.14\n",
      "1                           121                        1                  0.83\n",
      "2                            18                       17                 94.44\n",
      "3                         20643                        5                  0.02\n",
      "4                         11210                      825                  7.36\n"
     ]
    }
   ],
   "source": [
    "# Group the test data by 'centroid_id' and calculate the number of fraudulent transactions in each cluster\n",
    "fraud_distribution = test_data.groupby('centroid_id')['isFraud'].sum()\n",
    "\n",
    "# Also, calculate the total number of transactions in each cluster\n",
    "total_transactions = test_data.groupby('centroid_id')['isFraud'].count()\n",
    "\n",
    "# Calculate the percentage of fraudulent transactions in each cluster\n",
    "fraud_percentage = (fraud_distribution / total_transactions) * 100\n",
    "\n",
    "# Display the results\n",
    "fraud_stats = pd.DataFrame({\n",
    "    'Total Transactions': total_transactions,\n",
    "    'Fraudulent Transactions': fraud_distribution,\n",
    "    'Fraud Percentage (%)': fraud_percentage\n",
    "})\n",
    "\n",
    "print(fraud_stats)\n"
   ]
  },
  {
   "cell_type": "markdown",
   "metadata": {},
   "source": [
    "### 4. Visualize the Distribution of Fraudulent Transactions in Each Cluster:"
   ]
  },
  {
   "cell_type": "code",
   "execution_count": 102,
   "metadata": {},
   "outputs": [
    {
     "data": {
      "image/png": "[encoded data removed]",
      "text/plain": [
       "<Figure size 1000x600 with 1 Axes>"
      ]
     },
     "metadata": {},
     "output_type": "display_data"
    },
    {
     "data": {
      "image/png": "[encoded data removed]",
      "text/plain": [
       "<Figure size 1200x600 with 1 Axes>"
      ]
     },
     "metadata": {},
     "output_type": "display_data"
    }
   ],
   "source": [
    "# Step 1: Group by 'centroid_id' (cluster) and sum all the encoded types (TRANSFER, CASH_OUT, etc.)\n",
    "type_columns = [col for col in model_data.columns if col.startswith('type_')]\n",
    "type_distribution = model_data.groupby('centroid_id')[type_columns].sum()\n",
    "\n",
    "# Step 2: Normalize the distribution to get the percentages (for stacking purposes)\n",
    "type_distribution_percent = type_distribution.div(type_distribution.sum(axis=1), axis=0)\n",
    "\n",
    "# Step 3: Plot the stacked bar chart with percentages for transaction types in each cluster\n",
    "fig, ax = plt.subplots(figsize=(10, 6))\n",
    "type_distribution_percent.plot(kind='barh', stacked=True, ax=ax, colormap='tab20c')\n",
    "\n",
    "# Step 4: Add actual transaction type counts and percentage labels inside the bars\n",
    "for i in range(type_distribution.shape[0]):\n",
    "    # Iterate over each type column to add percentage labels inside the bars\n",
    "    cum_width = 0  # cumulative width of each stacked bar segment\n",
    "    for j, col in enumerate(type_columns):\n",
    "        width = type_distribution_percent.iloc[i, j]\n",
    "        if width > 0:  # Only add labels if the width is non-zero\n",
    "            ax.text(cum_width + width / 2, i, f\"{width * 100:.1f}%\", va='center', ha='center', color=\"white\", fontweight=\"bold\")\n",
    "            cum_width += width\n",
    "    \n",
    "    # Display raw counts on the right-hand side of the bars\n",
    "    ax.text(1.02, i, f\"Total: {int(type_distribution.iloc[i].sum()):,}\", va='center', ha='left')\n",
    "\n",
    "# Step 5: Customize the chart\n",
    "plt.title('Distribution of Transaction Types in Clusters with Percentages and Counts')\n",
    "plt.xlabel('Percentage')\n",
    "plt.ylabel('Cluster (Centroid ID)')\n",
    "plt.legend(type_columns, loc='upper right', bbox_to_anchor=(1.2, 1))\n",
    "plt.xlim(0, 1)  # Keep the x-axis scaled to percentage\n",
    "plt.show()\n",
    "\n",
    "# Step 6: Add additional cluster-level numeric analysis (like average transaction amounts)\n",
    "cluster_numeric_averages = model_data.groupby('centroid_id')[['amount', 'oldbalanceOrg', 'newbalanceOrig', 'oldbalanceDest', 'newbalanceDest']].mean()\n",
    "\n",
    "# Plot the average numeric feature values per cluster\n",
    "cluster_numeric_averages.plot(kind='bar', figsize=(12, 6), colormap='viridis')\n",
    "plt.title('Average Numeric Features by Cluster')\n",
    "plt.xlabel('Cluster (Centroid ID)')\n",
    "plt.ylabel('Average Value')\n",
    "plt.xticks(rotation=0)\n",
    "plt.show()\n",
    "\n"
   ]
  },
  {
   "cell_type": "markdown",
   "metadata": {},
   "source": [
    "### 5. Evaluate Cluster Homogeneity:"
   ]
  },
  {
   "cell_type": "markdown",
   "metadata": {},
   "source": [
    "These following two metrics give us a sense of how well our K-Means clustering model has performed. If we are looking to improve, we can experiment with different numbers of clusters, feature scaling, or more advanced clustering methods."
   ]
  },
  {
   "cell_type": "markdown",
   "metadata": {},
   "source": [
    "#### 1. Davies-Bouldin Index (DBI):\n",
    "\n",
    "The Davies-Bouldin Index is a measure of cluster separation and cohesion. It evaluates how well the clusters are separated from each other and how tightly packed (cohesive) the points within each cluster are.\n",
    "\n",
    "The DBI provides an indication of cluster quality by looking at both the distance between clusters and how tight the points are within clusters. A lower DBI value generally means that the clusters are well-defined, with clear separations between them."
   ]
  },
  {
   "cell_type": "code",
   "execution_count": 103,
   "metadata": {},
   "outputs": [
    {
     "name": "stdout",
     "output_type": "stream",
     "text": [
      "Davies-Bouldin Index: 0.9198057830606949\n"
     ]
    }
   ],
   "source": [
    "from sklearn.metrics import davies_bouldin_score\n",
    "\n",
    "# Calculate the Davies-Bouldin index for the training data\n",
    "db_index = davies_bouldin_score(scaled_training_data, model_data['centroid_id'])\n",
    "\n",
    "print(f'Davies-Bouldin Index: {db_index}')\n"
   ]
  },
  {
   "cell_type": "markdown",
   "metadata": {},
   "source": [
    "#### 2. Mean Squared Distance (MSD):\n",
    "\n",
    "The Mean Squared Distance refers to the average squared distance between each data point and the centroid of its assigned cluster. This metric essentially tells you how well the points are fitting within their assigned clusters.\n",
    "\n",
    "The MSD provides insight into how tightly clustered the points are around the centroid of their cluster. The lower the MSD, the more compact the clusters, which generally indicates a good clustering solution."
   ]
  },
  {
   "cell_type": "code",
   "execution_count": 105,
   "metadata": {},
   "outputs": [
    {
     "name": "stdout",
     "output_type": "stream",
     "text": [
      "Mean Squared Distance (MSD): 4.827167633193988\n"
     ]
    }
   ],
   "source": [
    "# Step 1: Get the cluster centers from the trained K-Means model\n",
    "centroids = kmeans.cluster_centers_\n",
    "\n",
    "# Step 2: For each data point, calculate the squared distance to its assigned centroid\n",
    "# We already have 'scaled_model_data' and 'model_data['centroid_id']' (the cluster assignments)\n",
    "\n",
    "# Initialize an empty list to store the squared distances\n",
    "squared_distances = []\n",
    "\n",
    "for i, point in enumerate(scaled_model_data):\n",
    "    # Get the centroid for the current point's assigned cluster\n",
    "    centroid = centroids[model_data['centroid_id'].iloc[i]]\n",
    "    \n",
    "    # Calculate the squared distance between the point and its centroid\n",
    "    squared_distance = np.sum((point - centroid) ** 2)\n",
    "    \n",
    "    # Append the squared distance to the list\n",
    "    squared_distances.append(squared_distance)\n",
    "\n",
    "# Step 3: Calculate the mean of the squared distances (Mean Squared Distance)\n",
    "mean_squared_distance = np.mean(squared_distances)\n",
    "\n",
    "# Display the result\n",
    "print(f\"Mean Squared Distance (MSD): {mean_squared_distance}\")"
   ]
  },
  {
   "cell_type": "markdown",
   "metadata": {},
   "source": [
    "Typically, in fraud detection, the most interesting clusters tend to be those that exhibit unusual behaviors and are small with high errors amount, such as:\n",
    "\n",
    "- High concentration of fraudulent transactions (if we include isFraud in the analysis).\n",
    "- Transactions with large discrepancies between oldbalanceOrg, newbalanceOrig, oldbalanceDest, and newbalanceDest, which might indicate potential fraudulent activity.\n",
    "- Clusters with anomalies in transaction amounts (amountError).\n",
    "- Unusual flags like origzeroFlag and destzeroFlag being consistently raised."
   ]
  },
  {
   "cell_type": "markdown",
   "metadata": {},
   "source": [
    "### Summary:\n",
    "\n",
    "- We trained a K-Means clustering model on model_data (80% training data).\n",
    "- We scored the test_data (20% test data) to assign each transaction to a cluster.\n",
    "- We analyzed the distribution of fraudulent transactions within each cluster and visualized it with bar plots.\n",
    "- Finally, we evaluated the clustering quality using the Davies-Bouldin Index.\n",
    "\n",
    "The target variable isFraud hasn't been used in this unsupervised model. It is preferred to save that variable for profiling and use it to explore the distribution of fraudulent activities within each cluster."
   ]
  },
  {
   "cell_type": "markdown",
   "metadata": {},
   "source": [
    "## Train a supervised machine learning model"
   ]
  },
  {
   "cell_type": "markdown",
   "metadata": {},
   "source": [
    "Now that we have explored unsupervised learning techniques like K-Means clustering, it's time to take the next step and build a supervised machine learning model. Supervised learning involves training a model on labeled data—in our case, we want to predict whether a transaction is fraudulent or non-fraudulent. For this task, we will start with a simple algorithm: binary logistic regression.\n",
    "\n",
    "Why **Logistic Regression**?\n",
    "\n",
    "Logistic regression is one of the most straightforward yet effective methods for classification problems, where the goal is to predict one of two possible outcomes (fraudulent or not). It's particularly useful when we're trying to model the probability of a binary outcome based on multiple input features. In our case, these features include transaction amounts, balances, and transaction types, which will help the model learn to distinguish between normal and fraudulent activities.\n",
    "\n",
    "This simple regression model will provide a strong foundation for understanding how we can leverage machine learning to identify fraudulent transactions, and it will serve as a starting point for more complex models in the future."
   ]
  },
  {
   "cell_type": "markdown",
   "metadata": {},
   "source": []
  }
 ],
 "metadata": {
  "kernelspec": {
   "display_name": "Python 3",
   "language": "python",
   "name": "python3"
  },
  "language_info": {
   "codemirror_mode": {
    "name": "ipython",
    "version": 3
   },
   "file_extension": ".py",
   "mimetype": "text/x-python",
   "name": "python",
   "nbconvert_exporter": "python",
   "pygments_lexer": "ipython3",
   "version": "3.12.6"
  }
 },
 "nbformat": 4,
 "nbformat_minor": 2
}
